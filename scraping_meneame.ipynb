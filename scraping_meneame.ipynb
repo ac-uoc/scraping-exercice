{
 "cells": [
  {
   "cell_type": "code",
   "execution_count": null,
   "metadata": {},
   "outputs": [],
   "source": [
    "import builtwith\n",
    "import whois\n",
    "import requests\n",
    "from bs4 import BeautifulSoup"
   ]
  },
  {
   "cell_type": "code",
   "execution_count": null,
   "metadata": {},
   "outputs": [],
   "source": [
    "URL='https://www.meneame.net'"
   ]
  },
  {
   "cell_type": "code",
   "execution_count": null,
   "metadata": {
    "scrolled": true
   },
   "outputs": [],
   "source": [
    "USER_AGENT = \"Mozilla/5.0 (X11; Ubuntu; Linux x86_64; rv:86.0) Gecko/20100101 Firefox/86.0\"\n",
    "headers = {\"user-agent\": USER_AGENT}\n",
    "page=requests.get(URL, headers=headers)"
   ]
  },
  {
   "cell_type": "code",
   "execution_count": null,
   "metadata": {},
   "outputs": [],
   "source": [
    "import sys\n",
    "\n",
    "meneame = page.content\n",
    "soup = BeautifulSoup(meneame,\"html.parser\")\n",
    "#TRAIEM EL SOUP PRETTY A UN FITXER PER FER UN COP D'ULL\n",
    "meneame_pretty = open(\"meneame_pretty.html\", \"w\")\n",
    "print(soup.prettify(), file=meneame_pretty)\n",
    "meneame_pretty.close()"
   ]
  },
  {
   "cell_type": "code",
   "execution_count": null,
   "metadata": {},
   "outputs": [],
   "source": [
    "#Titular\n",
    "#Web\n",
    "for i in soup.find_all('div',{'class':'center-content'}):\n",
    "# mirar tota la info que surt aquí\n",
    "    noticia=i.find('a')\n",
    "    titular = noticia.string\n",
    "    web = noticia['href']\n",
    "    print(titular)\n",
    "    print(web)"
   ]
  },
  {
   "cell_type": "code",
   "execution_count": null,
   "metadata": {},
   "outputs": [],
   "source": [
    "#Entrada\n",
    "for i in soup.find_all('div',{'class':'news-content'}):\n",
    "#S'ha de veure com relacionar totes les dades\n",
    "    entrada=(i.string)\n",
    "    print(entrada)\n",
    "    print('')"
   ]
  },
  {
   "cell_type": "code",
   "execution_count": null,
   "metadata": {},
   "outputs": [],
   "source": [
    "#Meneos\n",
    "for i in soup.find_all('div',{'class':'votes'}):\n",
    "    noticia_m = i.find('a')\n",
    "    # aixó és perque hi han algunes class:votes que no tenen info\n",
    "    if noticia_m != None:\n",
    "        print(noticia_m)\n",
    "        meneos = noticia_m.string\n",
    "        print(meneos)"
   ]
  },
  {
   "cell_type": "code",
   "execution_count": null,
   "metadata": {},
   "outputs": [],
   "source": [
    "#Clics\n",
    "for i in soup.find_all('div',{'class':'clics'}):\n",
    "    clics = i.find('span').string\n",
    "    if clics != None:\n",
    "        print(clics.string)"
   ]
  },
  {
   "cell_type": "code",
   "execution_count": null,
   "metadata": {},
   "outputs": [],
   "source": [
    "#Comentaris\n",
    "for i in soup.find_all('div',{'class':'news-details-main'}):\n",
    "    comentaris = i.find('a')['data-comments-number']\n",
    "    print(comentaris)"
   ]
  },
  {
   "cell_type": "code",
   "execution_count": null,
   "metadata": {},
   "outputs": [],
   "source": [
    "#Vots positius\n",
    "#Vots anónims\n",
    "#Vots negatius\n",
    "#Sub\n",
    "#Karma\n",
    "for i in soup.find_all('div',{'class':'news-details-data-up'}):\n",
    "    x = i.find_all('span')\n",
    "    #x es un bs4.element.ResultSet\n",
    "    print(x[2].string)\n",
    "    print(x[5].string)\n",
    "    print(x[8].string)\n",
    "    print(x[12].string)\n",
    "    print(x[13].a.string)\n",
    "    print('')"
   ]
  },
  {
   "cell_type": "code",
   "execution_count": null,
   "metadata": {},
   "outputs": [],
   "source": [
    "#Nom usuari\n"
   ]
  }
 ],
 "metadata": {
  "kernelspec": {
   "display_name": "Python 3",
   "language": "python",
   "name": "python3"
  },
  "language_info": {
   "codemirror_mode": {
    "name": "ipython",
    "version": 3
   },
   "file_extension": ".py",
   "mimetype": "text/x-python",
   "name": "python",
   "nbconvert_exporter": "python",
   "pygments_lexer": "ipython3",
   "version": "3.7.4"
  }
 },
 "nbformat": 4,
 "nbformat_minor": 2
}
